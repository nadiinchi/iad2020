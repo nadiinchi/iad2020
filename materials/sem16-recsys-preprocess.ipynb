{
 "cells": [
  {
   "cell_type": "markdown",
   "metadata": {
    "colab_type": "text",
    "id": "oNqRKj5c4AXO"
   },
   "source": [
    "## Рекомендательные системы"
   ]
  },
  {
   "cell_type": "markdown",
   "metadata": {},
   "source": [
    "### Автор: Вадим Кохтев"
   ]
  },
  {
   "cell_type": "markdown",
   "metadata": {
    "colab_type": "text",
    "id": "ychQcodwwgfp"
   },
   "source": [
    "В этом ноутбуке мы применим алгоритм коллаборативной фильтрации на item-base подходе. Работать мы будем с датасетом MovieLens, который содержит в себе информацию об оценках фильмов пользователями одноименного сайта."
   ]
  },
  {
   "cell_type": "markdown",
   "metadata": {
    "colab_type": "text",
    "id": "KGJjO0IwxAfE"
   },
   "source": [
    "Давайте загрузим необходимые библиотеки."
   ]
  },
  {
   "cell_type": "code",
   "execution_count": 8,
   "metadata": {
    "colab": {},
    "colab_type": "code",
    "id": "HLW7bd6zw9zr"
   },
   "outputs": [],
   "source": [
    "import pickle as pkl\n",
    "import zipfile\n",
    "from collections import defaultdict, Counter\n",
    "import datetime\n",
    "\n",
    "from scipy import linalg\n",
    "import scipy.sparse as sps\n",
    "import numpy as np\n",
    "import matplotlib.pyplot as plt"
   ]
  },
  {
   "cell_type": "markdown",
   "metadata": {
    "colab_type": "text",
    "id": "EPk20xPhxJt1"
   },
   "source": [
    "Скачаем данные"
   ]
  },
  {
   "cell_type": "code",
   "execution_count": 9,
   "metadata": {
    "colab": {
     "base_uri": "https://localhost:8080/",
     "height": 204
    },
    "colab_type": "code",
    "id": "zEjB8eDVxLHT",
    "outputId": "1a96bc9a-774e-4836-e7ad-589ca37f6855"
   },
   "outputs": [
    {
     "name": "stdout",
     "output_type": "stream",
     "text": [
      "--2020-06-03 04:04:08--  http://files.grouplens.org/datasets/movielens/ml-1m.zip\n",
      "Resolving files.grouplens.org (files.grouplens.org)... 128.101.65.152\n",
      "Connecting to files.grouplens.org (files.grouplens.org)|128.101.65.152|:80... connected.\n",
      "HTTP request sent, awaiting response... 200 OK\n",
      "Length: 5917549 (5.6M) [application/zip]\n",
      "Saving to: ‘ml-1m.zip.2’\n",
      "\n",
      "ml-1m.zip.2         100%[===================>]   5.64M  3.41MB/s    in 1.7s    \n",
      "\n",
      "2020-06-03 04:04:10 (3.41 MB/s) - ‘ml-1m.zip.2’ saved [5917549/5917549]\n",
      "\n"
     ]
    }
   ],
   "source": [
    "!wget http://files.grouplens.org/datasets/movielens/ml-1m.zip"
   ]
  },
  {
   "cell_type": "markdown",
   "metadata": {
    "colab_type": "text",
    "id": "yWUPKaVkxSm4"
   },
   "source": [
    "Распакуем данные и посмотрим, как они устроены."
   ]
  },
  {
   "cell_type": "code",
   "execution_count": 18,
   "metadata": {
    "colab": {
     "base_uri": "https://localhost:8080/",
     "height": 153
    },
    "colab_type": "code",
    "id": "r_c6cxrl0x5_",
    "outputId": "8d680a1e-65a5-4a07-83a3-ee4b36372b1f"
   },
   "outputs": [
    {
     "name": "stdout",
     "output_type": "stream",
     "text": [
      "files in archive\n",
      "['ml-1m/', 'ml-1m/movies.dat', 'ml-1m/ratings.dat', 'ml-1m/README', 'ml-1m/users.dat']\n",
      "movies\n",
      "['b\"1', 'Toy Story (1995)', 'Animation|Children\\'s|Comedy\\\\n\"']\n",
      "users\n",
      "[\"b'1\", 'F', '1', '10', \"48067\\\\n'\"]\n",
      "ratings\n",
      "[\"b'1\", '1193', '5', \"978300760\\\\n'\"]\n"
     ]
    }
   ],
   "source": [
    "with zipfile.ZipFile(\"ml-1m.zip\", \"r\") as z:\n",
    "    print(\"files in archive\")\n",
    "    print(z.namelist())\n",
    "    print(\"movies\")\n",
    "    with z.open(\"ml-1m/movies.dat\") as m:\n",
    "        print(str(m.readline()).split(\"::\"))\n",
    "    print(\"users\")\n",
    "    with z.open(\"ml-1m/users.dat\") as m:\n",
    "        print(str(m.readline()).split(\"::\"))\n",
    "    print(\"ratings\")\n",
    "    with z.open(\"ml-1m/ratings.dat\") as m:\n",
    "        print(str(m.readline()).split(\"::\"))"
   ]
  },
  {
   "cell_type": "markdown",
   "metadata": {
    "colab_type": "text",
    "id": "aTVoUAir02Cb"
   },
   "source": [
    "Мы видим, что в архиве лежит информация о фильмах. Это movieId фильма, название и жанр. О пользователях нам известен userId, пол (F, M), возраст, закодированная информация о трудоуствройстве и zip-code. И информация о рейтинге: userId, movieId, оценка и момент времени, когда оценка была сделана. Давайте прочитаем данные."
   ]
  },
  {
   "cell_type": "code",
   "execution_count": 19,
   "metadata": {
    "colab": {},
    "colab_type": "code",
    "id": "CtB8oYg7qBzn"
   },
   "outputs": [],
   "source": [
    "# read data\n",
    "movies = {} # id\n",
    "users = {} # id\n",
    "ratings = defaultdict(list) # user-id\n",
    "\n",
    "with zipfile.ZipFile(\"ml-1m.zip\", \"r\") as z:\n",
    "    # parse movies\n",
    "    with z.open(\"ml-1m/movies.dat\") as m:\n",
    "        for line in m:\n",
    "            MovieID, Title, Genres = line.decode('iso-8859-1').strip().split(\"::\")\n",
    "            MovieID = int(MovieID)\n",
    "            Genres = Genres.split(\"|\")\n",
    "            movies[MovieID] = {\"Title\": Title, \"Genres\": Genres}\n",
    "    \n",
    "    # parse users\n",
    "    with z.open(\"ml-1m/users.dat\") as m:\n",
    "        fields = [\"UserID\", \"Gender\", \"Age\", \"Occupation\", \"Zip-code\"]\n",
    "        for line in m:\n",
    "            row = list(zip(fields, line.decode('iso-8859-1').strip().split(\"::\")))\n",
    "            data = dict(row[1:])\n",
    "            data[\"Occupation\"] = int(data[\"Occupation\"])\n",
    "            users[int(row[0][1])] = data\n",
    "    \n",
    "    # parse ratings\n",
    "    with z.open(\"ml-1m/ratings.dat\") as m:\n",
    "        for line in m:\n",
    "            UserID, MovieID, Rating, Timestamp = line.decode('iso-8859-1').strip().split(\"::\")\n",
    "            UserID = int(UserID)\n",
    "            MovieID = int(MovieID)\n",
    "            Rating = int(Rating)\n",
    "            Timestamp = int(Timestamp)\n",
    "            ratings[UserID].append((MovieID, Rating, datetime.datetime.fromtimestamp(Timestamp)))"
   ]
  },
  {
   "cell_type": "markdown",
   "metadata": {
    "colab_type": "text",
    "id": "zb4bgay23z5f"
   },
   "source": [
    "Посмотрим на данные"
   ]
  },
  {
   "cell_type": "code",
   "execution_count": 20,
   "metadata": {
    "colab": {
     "base_uri": "https://localhost:8080/",
     "height": 71
    },
    "colab_type": "code",
    "id": "CuTfmpcI3Oal",
    "outputId": "a75f1e05-b1fe-4317-a30a-603d3c0d00d6"
   },
   "outputs": [
    {
     "name": "stdout",
     "output_type": "stream",
     "text": [
      "{'Gender': 'M', 'Age': '25', 'Occupation': 15, 'Zip-code': '55117'}\n",
      "[(3421, 4, datetime.datetime(2001, 1, 1, 0, 29, 7)), (1641, 2, datetime.datetime(2001, 1, 1, 0, 33, 50)), (648, 3, datetime.datetime(2001, 1, 1, 0, 24, 27)), (1394, 4, datetime.datetime(2001, 1, 1, 0, 29, 7)), (3534, 3, datetime.datetime(2001, 1, 1, 0, 11, 8)), (104, 4, datetime.datetime(2001, 1, 1, 0, 34, 46)), (2735, 4, datetime.datetime(2001, 1, 1, 0, 24, 27)), (1210, 4, datetime.datetime(2001, 1, 1, 0, 20)), (1431, 3, datetime.datetime(2001, 1, 1, 0, 11, 35)), (3868, 3, datetime.datetime(2001, 1, 1, 0, 34, 46)), (1079, 5, datetime.datetime(2001, 1, 1, 0, 31, 36)), (2997, 3, datetime.datetime(2001, 1, 1, 0, 29, 7)), (1615, 5, datetime.datetime(2001, 1, 1, 0, 21, 50)), (1291, 4, datetime.datetime(2001, 1, 1, 0, 20)), (1259, 5, datetime.datetime(2001, 1, 1, 0, 31, 36)), (653, 4, datetime.datetime(2001, 1, 1, 0, 22, 37)), (2167, 5, datetime.datetime(2001, 1, 1, 0, 20)), (1580, 3, datetime.datetime(2001, 1, 1, 0, 21, 3)), (3619, 2, datetime.datetime(2001, 1, 1, 0, 30, 1)), (260, 5, datetime.datetime(2001, 1, 1, 0, 18, 32)), (2858, 4, datetime.datetime(2001, 1, 1, 0, 10, 39)), (3114, 3, datetime.datetime(2001, 1, 1, 0, 28, 23)), (1049, 4, datetime.datetime(2001, 1, 1, 0, 23, 25)), (1261, 1, datetime.datetime(2001, 1, 1, 0, 21, 3)), (552, 4, datetime.datetime(2001, 1, 1, 0, 23, 57)), (480, 4, datetime.datetime(2001, 1, 1, 0, 21, 30)), (1265, 2, datetime.datetime(2001, 1, 1, 0, 31, 56)), (1266, 5, datetime.datetime(2001, 1, 1, 0, 16, 36)), (733, 5, datetime.datetime(2001, 1, 1, 0, 22, 37)), (1196, 4, datetime.datetime(2001, 1, 1, 0, 18, 59)), (590, 4, datetime.datetime(2001, 1, 1, 0, 17, 19)), (2355, 5, datetime.datetime(2001, 1, 1, 0, 33, 50)), (1197, 5, datetime.datetime(2001, 1, 1, 0, 19, 30)), (1198, 5, datetime.datetime(2001, 1, 1, 0, 19, 30)), (1378, 5, datetime.datetime(2001, 1, 1, 0, 16, 59)), (593, 3, datetime.datetime(2001, 1, 1, 0, 10, 18)), (1379, 4, datetime.datetime(2001, 1, 1, 0, 16, 59)), (3552, 5, datetime.datetime(2001, 1, 1, 0, 34, 19)), (1304, 5, datetime.datetime(2001, 1, 1, 0, 29, 26)), (1270, 3, datetime.datetime(2001, 1, 1, 0, 30, 31)), (2470, 4, datetime.datetime(2001, 1, 1, 0, 22, 57)), (3168, 4, datetime.datetime(2001, 1, 1, 0, 19, 30)), (2617, 2, datetime.datetime(2001, 1, 1, 0, 23, 57)), (1961, 4, datetime.datetime(2001, 1, 1, 0, 11, 35)), (3671, 5, datetime.datetime(2001, 1, 1, 0, 16, 59)), (2006, 4, datetime.datetime(2001, 1, 1, 0, 22, 37)), (2871, 4, datetime.datetime(2001, 1, 1, 0, 18, 59)), (2115, 4, datetime.datetime(2001, 1, 1, 0, 22, 57)), (1968, 4, datetime.datetime(2001, 1, 1, 0, 11, 8)), (1136, 5, datetime.datetime(2001, 1, 1, 0, 27, 59)), (2081, 4, datetime.datetime(2001, 1, 1, 0, 35, 4))]\n"
     ]
    }
   ],
   "source": [
    "print(users[3])\n",
    "print(ratings[3])"
   ]
  },
  {
   "cell_type": "code",
   "execution_count": 21,
   "metadata": {},
   "outputs": [],
   "source": [
    "m2m = dict()\n",
    "nw_movies = []\n",
    "for movie in movies:\n",
    "    nw_id = len(m2m)\n",
    "    m2m[movie] = nw_id\n",
    "    nw_movies.append(movies[movie])\n",
    "\n",
    "# u2u = dict()\n",
    "nw_users = []\n",
    "nw_ratings = []\n",
    "for user in users:\n",
    "    # nw_id = len(u2u)\n",
    "    # u2u[user] = nw_id\n",
    "    nw_users.append(users[user])\n",
    "    nw_ratings.append([(m2m[r[0]], r[1], r[2]) for r in ratings[user]])\n",
    "\n",
    "old_users, old_movies, old_ratings = users, movies, ratings\n",
    "users, movies, ratings = nw_users, nw_movies, nw_ratings"
   ]
  },
  {
   "cell_type": "code",
   "execution_count": 14,
   "metadata": {},
   "outputs": [],
   "source": [
    "import pickle as pkl"
   ]
  },
  {
   "cell_type": "code",
   "execution_count": 15,
   "metadata": {},
   "outputs": [],
   "source": [
    "with open('data.pkl', 'wb') as f:\n",
    "    pkl.dump({\n",
    "        'users': users,\n",
    "        'movies': movies,\n",
    "        'ratings': ratings,\n",
    "    }, f)"
   ]
  },
  {
   "cell_type": "code",
   "execution_count": null,
   "metadata": {},
   "outputs": [],
   "source": []
  }
 ],
 "metadata": {
  "colab": {
   "collapsed_sections": [],
   "machine_shape": "hm",
   "name": "Screencast_Recsys.ipynb",
   "provenance": []
  },
  "kernelspec": {
   "display_name": "Python 3",
   "language": "python",
   "name": "python3"
  },
  "language_info": {
   "codemirror_mode": {
    "name": "ipython",
    "version": 3
   },
   "file_extension": ".py",
   "mimetype": "text/x-python",
   "name": "python",
   "nbconvert_exporter": "python",
   "pygments_lexer": "ipython3",
   "version": "3.7.6"
  }
 },
 "nbformat": 4,
 "nbformat_minor": 1
}
