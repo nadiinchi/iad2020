{
 "cells": [
  {
   "cell_type": "markdown",
   "metadata": {},
   "source": [
    "# Практическое задание по обучению решающих деревьев\n",
    "\n",
    "В практической части мы реализуем часть алгоритма обучения решающего дерева: мы выполним построение корневой вершины дерева на конкретных данных. Мы будем перебирать все признаки и пороги, для каждой комбинации выполним подсчет критерия. После выбора оптимального признака и порога, мы визуализируем разделение выборки по этому признаку и порогу."
   ]
  },
  {
   "cell_type": "markdown",
   "metadata": {},
   "source": [
    "Будем использовать данные boston. В этой задаче нужно предсказать стоимость жилья (задача регрессии)."
   ]
  },
  {
   "cell_type": "code",
   "execution_count": null,
   "metadata": {
    "collapsed": true
   },
   "outputs": [],
   "source": [
    "import pandas as pd\n",
    "import numpy as np\n",
    "from sklearn.datasets import load_boston\n",
    "import re\n",
    "from sklearn.model_selection import train_test_split"
   ]
  },
  {
   "cell_type": "code",
   "execution_count": null,
   "metadata": {
    "collapsed": true
   },
   "outputs": [],
   "source": [
    "boston = load_boston()"
   ]
  },
  {
   "cell_type": "code",
   "execution_count": null,
   "metadata": {
    "collapsed": true
   },
   "outputs": [],
   "source": [
    "boston.keys()"
   ]
  },
  {
   "cell_type": "markdown",
   "metadata": {},
   "source": [
    "Разделим выборку на обучение и контроль:"
   ]
  },
  {
   "cell_type": "code",
   "execution_count": null,
   "metadata": {
    "collapsed": true
   },
   "outputs": [],
   "source": [
    "X_tr, X_te, y_tr, y_te = train_test_split(boston[\"data\"], boston[\"target\"])"
   ]
  },
  {
   "cell_type": "markdown",
   "metadata": {},
   "source": [
    "Преобразуем в pandas-датафрейм:"
   ]
  },
  {
   "cell_type": "code",
   "execution_count": null,
   "metadata": {
    "collapsed": true
   },
   "outputs": [],
   "source": [
    "data_train = pd.DataFrame(X_tr, columns=boston[\"feature_names\"])\n",
    "data_test = pd.DataFrame(X_te, columns=boston[\"feature_names\"])"
   ]
  },
  {
   "cell_type": "code",
   "execution_count": null,
   "metadata": {
    "collapsed": true
   },
   "outputs": [],
   "source": [
    "data_train.head()"
   ]
  },
  {
   "cell_type": "markdown",
   "metadata": {},
   "source": [
    "Число объектов и признаков:"
   ]
  },
  {
   "cell_type": "code",
   "execution_count": null,
   "metadata": {
    "collapsed": true
   },
   "outputs": [],
   "source": [
    "data_train.shape"
   ]
  },
  {
   "cell_type": "code",
   "execution_count": null,
   "metadata": {
    "collapsed": true
   },
   "outputs": [],
   "source": [
    "from matplotlib import pyplot as plt\n",
    "%matplotlib inline"
   ]
  },
  {
   "cell_type": "markdown",
   "metadata": {},
   "source": [
    "Далее мы будем реализовывать первый шаг в построении решающего дерева - выбор признака и порога для разделения в корневой вершине дерева."
   ]
  },
  {
   "cell_type": "code",
   "execution_count": null,
   "metadata": {
    "collapsed": true
   },
   "outputs": [],
   "source": [
    "# чтобы было удобно сортировать объекты вместе с целевым вектором, \n",
    "# допишем его в датафрейм\n",
    "data_train[\"target\"] = y_tr"
   ]
  },
  {
   "cell_type": "code",
   "execution_count": null,
   "metadata": {
    "collapsed": true
   },
   "outputs": [],
   "source": [
    "# чтобы было удобно перебирать порог на первый признак, \n",
    "# сортируем датафрейм по нему\n",
    "data_train.sort_values(\"CRIM\", inplace=True)"
   ]
  },
  {
   "cell_type": "code",
   "execution_count": null,
   "metadata": {
    "collapsed": true
   },
   "outputs": [],
   "source": [
    "data_train.head()"
   ]
  },
  {
   "cell_type": "code",
   "execution_count": null,
   "metadata": {
    "collapsed": true
   },
   "outputs": [],
   "source": [
    "# перебирите все возможные разбиения по первому признаку\n",
    "# для каждого разбиения вычислите критерий Q\n",
    "# запишите все значения Q в quals\n",
    "\n",
    "quals = []\n",
    "for i in range(data_train.shape[0]):\n",
    "    # сначала для левого и правого поддерева вычислить критерий информативности - дисперсию ответов \n",
    "    # затем сложить два значения критерия информативности с весами\n",
    "    quality = ...\n",
    "    quals.append(quality)"
   ]
  },
  {
   "cell_type": "code",
   "execution_count": null,
   "metadata": {
    "collapsed": true
   },
   "outputs": [],
   "source": [
    "# рисуем график порог на первый признак - критерий Q\n",
    "plt.plot(data_train[\"CRIM\"], quals)\n",
    "plt.xlabel(\"feature CRIM\")\n",
    "plt.ylabel(\"Q\")"
   ]
  },
  {
   "cell_type": "markdown",
   "metadata": {},
   "source": [
    "Теперь повторим процедуру вычисления критерия Q для каждого признака.\n",
    "\n",
    "Обратите внимание: чтобы было удобно сравнивать значение критерия для разных признаков, мы все рисуем на одном графике. Но шкала (множество значений) у каждого признака своя. Так что мы будем откладывать по оси x просто числа от 0 до длины выборки, и величину оптимального порога по графику будет определить нельзя. По графику мы сможем определить только оптимальный признак для разделения."
   ]
  },
  {
   "cell_type": "code",
   "execution_count": null,
   "metadata": {
    "collapsed": true
   },
   "outputs": [],
   "source": [
    "for feat in data_train.columns[:-1]:\n",
    "    quals = []\n",
    "    data_train.sort_values(feat, inplace=True)\n",
    "    for i in range(data_train.shape[0]):\n",
    "        quality = # скопировать код\n",
    "        quals.append(quality)\n",
    "    plt.plot(quals, label=feat)\n",
    "plt.xlabel(\"Dataset splits\")\n",
    "plt.ylabel(\"Q\")\n",
    "plt.legend(loc=(1, 0))"
   ]
  },
  {
   "cell_type": "markdown",
   "metadata": {},
   "source": [
    "Наименьшее значение критерия из всех линий достигается на коричневой линии RM. Нарисуем для него график отдельно (уже с его осью значений порога): "
   ]
  },
  {
   "cell_type": "code",
   "execution_count": null,
   "metadata": {
    "collapsed": true
   },
   "outputs": [],
   "source": [
    "feat = \"RM\"\n",
    "quals = []\n",
    "data_train.sort_values(feat, inplace=True)\n",
    "for i in range(data_train.shape[0]):\n",
    "    quality = # скопировать код\n",
    "    quals.append(quality)\n",
    "plt.plot(data_train[feat], quals)\n",
    "plt.xlabel(\"feature \"+feat)\n",
    "plt.ylabel(\"Q\")"
   ]
  },
  {
   "cell_type": "markdown",
   "metadata": {},
   "source": [
    "Оптимальная величина порога:"
   ]
  },
  {
   "cell_type": "code",
   "execution_count": null,
   "metadata": {
    "collapsed": true
   },
   "outputs": [],
   "source": [
    "not_nan_mask = np.logical_not(np.isnan(quals))\n",
    "quals = np.array(quals)[not_nan_mask]\n",
    "threshs = data_train[feat].values[not_nan_mask]\n",
    "thresh = threshs[np.argmin(quals)]\n",
    "print(thresh)"
   ]
  },
  {
   "cell_type": "markdown",
   "metadata": {},
   "source": [
    "Нарисуем выборку в осях RM - target и изобразим порог, по которому мы выполнили разделение:"
   ]
  },
  {
   "cell_type": "code",
   "execution_count": null,
   "metadata": {
    "collapsed": true
   },
   "outputs": [],
   "source": [
    "plt.scatter(data_train[\"RM\"], data_train[\"target\"])\n",
    "plt.plot([thresh, thresh], [0, 60], color=\"red\")\n",
    "plt.xlabel(\"RM\")\n",
    "plt.ylabel(\"Target\")"
   ]
  },
  {
   "cell_type": "markdown",
   "metadata": {},
   "source": [
    "Видно, что точки справа от красной линии лежат почти все выше 30, а слева - ниже, т. е. этот признак действительно очень хорошо разделяет выборку."
   ]
  }
 ],
 "metadata": {
  "anaconda-cloud": {},
  "kernelspec": {
   "display_name": "Python 3",
   "language": "python",
   "name": "python3"
  },
  "language_info": {
   "codemirror_mode": {
    "name": "ipython",
    "version": 3
   },
   "file_extension": ".py",
   "mimetype": "text/x-python",
   "name": "python",
   "nbconvert_exporter": "python",
   "pygments_lexer": "ipython3",
   "version": "3.6.3"
  }
 },
 "nbformat": 4,
 "nbformat_minor": 1
}
