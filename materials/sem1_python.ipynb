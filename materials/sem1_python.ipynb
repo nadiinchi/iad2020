{
 "cells": [
  {
   "cell_type": "markdown",
   "metadata": {},
   "source": [
    "# Задание по python"
   ]
  },
  {
   "cell_type": "markdown",
   "metadata": {},
   "source": [
    "Файл доступен по ссылке: https://github.com/nadiinchi/iad2020/blob/master/materials/russian_weather.txt"
   ]
  },
  {
   "cell_type": "markdown",
   "metadata": {},
   "source": [
    "Дан небольшой файл \"russian\\_weather.txt\", в каждой строке которого через \";\" записаны сначала лейбл (текстовая строка), а затем N вещественных чисел.\n",
    "\n",
    "Пример строки (N=5):\n",
    "\n",
    "Numbers;1.1;1.2;1.3;1.4;1.5;\n",
    "\n",
    "В выданном файле N = 114, строка означает российский город, а числа --- температуру с 1980 по 1990 год с некоторым периодом.\n",
    "Требуется написать python-скрипт, который\n",
    "1. считывает числовые данные в numpy array с dtype=float и сохраняет в отдельном списке лейблы (в том же порядке);\n",
    "1. рассматривая строки как функции (со 114 значениями), строит их всех на одном графике. На графике желательно подписать оси (например, \"Город\"--\"Температуры\"), название, а также легенду (указывающую названия городов каждой линии, для этого их и надо сохранить в список)."
   ]
  },
  {
   "cell_type": "code",
   "execution_count": 2,
   "metadata": {
    "collapsed": true
   },
   "outputs": [],
   "source": [
    "from matplotlib import pyplot as plt\n",
    "%matplotlib inline "
   ]
  },
  {
   "cell_type": "code",
   "execution_count": null,
   "metadata": {},
   "outputs": [],
   "source": []
  },
  {
   "cell_type": "code",
   "execution_count": null,
   "metadata": {
    "collapsed": true
   },
   "outputs": [],
   "source": []
  },
  {
   "cell_type": "code",
   "execution_count": null,
   "metadata": {
    "collapsed": true
   },
   "outputs": [],
   "source": []
  },
  {
   "cell_type": "code",
   "execution_count": null,
   "metadata": {
    "collapsed": true
   },
   "outputs": [],
   "source": []
  },
  {
   "cell_type": "code",
   "execution_count": null,
   "metadata": {
    "collapsed": true
   },
   "outputs": [],
   "source": []
  },
  {
   "cell_type": "code",
   "execution_count": null,
   "metadata": {
    "collapsed": true
   },
   "outputs": [],
   "source": []
  }
 ],
 "metadata": {
  "kernelspec": {
   "display_name": "Python 3",
   "language": "python",
   "name": "python3"
  },
  "language_info": {
   "codemirror_mode": {
    "name": "ipython",
    "version": 3
   },
   "file_extension": ".py",
   "mimetype": "text/x-python",
   "name": "python",
   "nbconvert_exporter": "python",
   "pygments_lexer": "ipython3",
   "version": "3.6.3"
  }
 },
 "nbformat": 4,
 "nbformat_minor": 1
}
