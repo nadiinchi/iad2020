{
 "cells": [
  {
   "cell_type": "markdown",
   "metadata": {},
   "source": [
    "# Семинар по трехмерной геометрии и градиентному спуску\n",
    "\n",
    "## Трехмерная геометрия\n",
    "\n",
    "### Теоретическая часть\n",
    "\n",
    "#### Ответьте на вопросы:\n",
    "*  Каким уравнением задается прямая на плоскости? Отличие y = kx + b и ax + by + c = 0\n",
    "* Записать уравнение плоскости в трехмерном пространстве, гиперплоскости в многомерном пространстве. \n",
    "* В пространстве какой размерности задается гиперплоскость из предыдущего вопроса?\n",
    "* Если какой-то из коэффициентов равен 0, что это геометрически означает?\n",
    "* Что означает, что свободный член равен 0?"
   ]
  },
  {
   "cell_type": "markdown",
   "metadata": {},
   "source": [
    "### Практическая часть: визуализация функции от двух переменных"
   ]
  },
  {
   "cell_type": "code",
   "execution_count": null,
   "metadata": {
    "collapsed": true
   },
   "outputs": [],
   "source": [
    "from mpl_toolkits.mplot3d import Axes3D\n",
    "import matplotlib.pyplot as plt\n",
    "import numpy as np\n",
    "from matplotlib import cm\n",
    "%matplotlib inline"
   ]
  },
  {
   "cell_type": "code",
   "execution_count": null,
   "metadata": {
    "collapsed": true
   },
   "outputs": [],
   "source": [
    "def plot_3d(fun, a=-1, b=1, c=-1, d=1, trace=None):\n",
    "    \"\"\"\n",
    "    Визуализирует функцию fun на квадрате [a, b] x [c, d]\n",
    "    fun : функция, принимающая два аргумента \n",
    "         (np.array одинакового размера) и возвращающая\n",
    "          np.array того же размера со значениями функции\n",
    "          в соответствующих точках\n",
    "    Дополнительно возможно нарисовать ломаную линию из N точек,\n",
    "    лежащую на получившейся поверхности\n",
    "    trace : np.array размера N x 2 - координаты на плоскости,\n",
    "            обозначающие точки ломаной\n",
    "    \"\"\"\n",
    "    fig = plt.figure()\n",
    "\n",
    "    # Make grid\n",
    "    x1_ = np.linspace(a, b, 100)\n",
    "    x2_ = np.linspace(c, d, 100)\n",
    "    x1, x2 = np.meshgrid(x1_, x2_)\n",
    "    y = fun(x1, x2)\n",
    "\n",
    "    # Plot the surface\n",
    "    ax = fig.add_subplot(1, 1, 1, projection='3d')\n",
    "    ax.plot_surface(x1, x2, y, alpha=0.6)\n",
    "    ax.contour(x1, x2, y, zdir='z', \n",
    "                  offset=y.min(), cmap=cm.coolwarm)\n",
    "    \n",
    "    # Plot 3d line \n",
    "    if trace is not None:\n",
    "        y_trace = fun(trace[:, 0], trace[:, 1])\n",
    "        ax.plot(trace[:, 0], trace[:, 1], y_trace, \"o-\")\n",
    "        ax.set_xlim(x1.min(), x1.max())\n",
    "        ax.set_ylim(x2.min(), x2.max())\n",
    "        ax.set_zlim(y.min(), y.max())"
   ]
  },
  {
   "cell_type": "markdown",
   "metadata": {},
   "source": [
    "Вам дана функция, визуализирующая поверхности. Ознакомьтесь с ее интерфейсом.\n",
    "\n",
    "Например, отобразим трехмерную параболу:"
   ]
  },
  {
   "cell_type": "code",
   "execution_count": null,
   "metadata": {
    "collapsed": true
   },
   "outputs": [],
   "source": [
    "fun = lambda x1, x2: x1**2 + x2**2\n",
    "plot_3d(fun)"
   ]
  },
  {
   "cell_type": "markdown",
   "metadata": {},
   "source": [
    "Круги на плоскости показывают проекции линий уровня поверхности."
   ]
  },
  {
   "cell_type": "markdown",
   "metadata": {},
   "source": [
    "Нарисуйте плоскость $y = x_1 + 2 x_2 + 3$:"
   ]
  },
  {
   "cell_type": "code",
   "execution_count": null,
   "metadata": {
    "collapsed": true
   },
   "outputs": [],
   "source": [
    "# student's code here\n"
   ]
  },
  {
   "cell_type": "markdown",
   "metadata": {},
   "source": [
    "Нарисуйте плоскость, параллельную любой из горизонтальных осей:"
   ]
  },
  {
   "cell_type": "code",
   "execution_count": null,
   "metadata": {
    "collapsed": true
   },
   "outputs": [],
   "source": [
    "# student's code here\n"
   ]
  },
  {
   "cell_type": "markdown",
   "metadata": {},
   "source": [
    "Нарисуйте плоскость, проходящую через начало координат:"
   ]
  },
  {
   "cell_type": "code",
   "execution_count": null,
   "metadata": {
    "collapsed": true
   },
   "outputs": [],
   "source": [
    "# student's code here\n"
   ]
  },
  {
   "cell_type": "markdown",
   "metadata": {},
   "source": [
    "## Градиентный спуск\n",
    "\n",
    "### Теоретическая часть\n",
    "\n",
    "Градиент функции $f(x) = f(x_1, \\dots, x_d)$ от многих переменных в точке $x_0$ - это вектор ее частных производных, вычисленных в точке $x_0$.\n",
    "$$\\nabla_x f \\bigl | _{x_0} = \\biggl(\\frac{\\partial f}{\\partial x_1}, \\dots, \\frac{\\partial f}{\\partial x_d} \\biggr ) \\biggl | _{x_0}$$\n",
    "\n",
    "Разберем два простых примера вычисления градиента в случае функции от двух переменных.\n",
    "\n",
    "#### Задача 1.\n",
    "\n",
    "Найдите градиент линейной функции $f(x) = f(x_1, x_2) = c_1 x_1 + c_2 x_2$ ($c_1$ и $c_2$ - фиксированные числа). \n",
    "\n",
    "#### Задача 2.\n",
    "Найдите градиент квадратичной функции $f(x) = f(x_1, x_2) = c_1 x_1^2 + c_2 x_2^2$ ($c_1$ и $c_2$ - фиксированные числа). "
   ]
  },
  {
   "cell_type": "markdown",
   "metadata": {},
   "source": [
    "Ясно, что минимум такой квадратичной функции достигается в 0.\n",
    "Наша следующая цель - найти этот минимум с помощью градиентного спуска. \n",
    "\n",
    "__Вспомните из лекции:__\n",
    "* Какую (оптимизационную) задачу решает градиентный спуск?\n",
    "* Как работает алгоритм градиентного спуска?\n",
    "* Как выбирать начальную инициализацию в градиентном спуске?\n",
    "* Когда останавливать градиентный спуск?"
   ]
  },
  {
   "cell_type": "markdown",
   "metadata": {},
   "source": [
    "### Практическая часть\n",
    "\n",
    "Воспользуемся кодом квадратичной функции (выше) и обобщим ее на случай произвольных коэффициентов:"
   ]
  },
  {
   "cell_type": "code",
   "execution_count": null,
   "metadata": {
    "collapsed": true
   },
   "outputs": [],
   "source": [
    "def fun(x1, x2, c1=1, c2=1):\n",
    "    return c1*x1**2 + c2*x2**2"
   ]
  },
  {
   "cell_type": "markdown",
   "metadata": {},
   "source": [
    "Эта функция способна обрабатывать x1 и x2 любой размерности, но градиенты будем считать в предположении, что x1 и x2 - числа (так проще)"
   ]
  },
  {
   "cell_type": "markdown",
   "metadata": {},
   "source": [
    "Теперь надо реализовать градиент функции fun. Напишите код функции вычисления градиента в одной точке согласно описанию:"
   ]
  },
  {
   "cell_type": "code",
   "execution_count": null,
   "metadata": {
    "collapsed": true
   },
   "outputs": [],
   "source": [
    "def grad_fun(x1, x2, c1=1, c2=1):\n",
    "    \"\"\"\n",
    "    Функция берет 2 числа, обозначающую точку вычисления градиента,\n",
    "    и возвращает np.array размера (2,) - градиент квадратичной функции\n",
    "    Опциональные аргументы: c1 и c2 - коэффициенты\n",
    "    \"\"\"\n",
    "    ### student's code here\n",
    "    "
   ]
  },
  {
   "cell_type": "markdown",
   "metadata": {},
   "source": [
    "Проверьте правильность (сверьте с формулой):"
   ]
  },
  {
   "cell_type": "code",
   "execution_count": null,
   "metadata": {
    "collapsed": true
   },
   "outputs": [],
   "source": [
    "grad_fun(x1=0.5, x2=1.5, c1=2, c2=3)"
   ]
  },
  {
   "cell_type": "markdown",
   "metadata": {},
   "source": [
    "Теперь реализуем градиентный спуск. \n",
    "Он работает следующим образом: \n",
    "1. сначала инициализируется начальная точка x (это уже сделано)\n",
    "1. затем повторяются итерации:\n",
    "$$x = x - \\alpha \\nabla_x f$$\n",
    "Здесь $\\alpha$ - длина шага.\n",
    "\n",
    "Допишите функцию согласно описанию:"
   ]
  },
  {
   "cell_type": "code",
   "execution_count": null,
   "metadata": {
    "collapsed": true
   },
   "outputs": [],
   "source": [
    "def grad_descend(grad_fun, step_size=0.1, num_steps=20):\n",
    "    \"\"\"\n",
    "    Реализует градиентный спуск\n",
    "    Аргументы:\n",
    "    * grad_fun - функция, вычисляющая градиент\n",
    "    * step_size - длина шага\n",
    "    * num_steps - число итераций\n",
    "    \n",
    "    Возвращает np.array размера (num_steps+1) x 2, \n",
    "    (i+1)-й элемент - точка на (i+1)-й итеарации,\n",
    "    нулевой элемент - случайная инициализация\n",
    "    \"\"\"\n",
    "    x = np.random.rand(2) * 4 - 2\n",
    "    ### student's code here\n",
    "    "
   ]
  },
  {
   "cell_type": "markdown",
   "metadata": {},
   "source": [
    "Протестируем функцию (последний элемент должен быть близок к 0):"
   ]
  },
  {
   "cell_type": "code",
   "execution_count": null,
   "metadata": {
    "collapsed": true
   },
   "outputs": [],
   "source": [
    "trace = grad_descend(grad_fun)\n",
    "trace"
   ]
  },
  {
   "cell_type": "markdown",
   "metadata": {},
   "source": [
    "Теперь мы готовы визуализировать градиентный спуск. Для этого передайте нашу траекторию оптимизации в качестве последнего аргумента функции plot_3d."
   ]
  },
  {
   "cell_type": "code",
   "execution_count": null,
   "metadata": {
    "collapsed": true
   },
   "outputs": [],
   "source": [
    "### student's code here\n"
   ]
  },
  {
   "cell_type": "markdown",
   "metadata": {},
   "source": [
    "Может потребоваться запустить ячейку пару раз, чтобы траекторию было лучше видно."
   ]
  },
  {
   "cell_type": "markdown",
   "metadata": {},
   "source": [
    "Запустите оптимизацию несколько раз, чтобы посмотреть, как ведет себя процесс в зависимости от начального приближения:"
   ]
  },
  {
   "cell_type": "code",
   "execution_count": null,
   "metadata": {
    "collapsed": true
   },
   "outputs": [],
   "source": [
    "### student's code here\n"
   ]
  },
  {
   "cell_type": "markdown",
   "metadata": {},
   "source": [
    "Попробуйте разную длину шага из множества (0.01, 0.1, 0.5, 1). Рекомендуется перед запуском градиентного спуска написать np.random.seed(<число>), чтобы все запуски были из одного начального приближения."
   ]
  },
  {
   "cell_type": "code",
   "execution_count": null,
   "metadata": {
    "collapsed": true
   },
   "outputs": [],
   "source": [
    "### student's code here\n"
   ]
  },
  {
   "cell_type": "markdown",
   "metadata": {},
   "source": [
    "При маленькой длине шага процесс идет сишком медленно, при большой - может разойтись."
   ]
  },
  {
   "cell_type": "markdown",
   "metadata": {},
   "source": [
    "Наконец, попробуем использовать другие коэффициенты. Оптимизируйте функцию $f(x) = x_1^2 + 5 x_2^2$, пробуя длину шага (0.1, 0.2, 0.5):"
   ]
  },
  {
   "cell_type": "code",
   "execution_count": null,
   "metadata": {
    "collapsed": true
   },
   "outputs": [],
   "source": [
    "### student's code here\n"
   ]
  },
  {
   "cell_type": "markdown",
   "metadata": {},
   "source": [
    "\"Вытянутую\" функцию сложнее оптимизировать. Именно поэтому рекомендуется нормировать данные перед обучением модели, чтобы избежать таких колебаний при оптимизации."
   ]
  },
  {
   "cell_type": "code",
   "execution_count": null,
   "metadata": {
    "collapsed": true
   },
   "outputs": [],
   "source": []
  }
 ],
 "metadata": {
  "kernelspec": {
   "display_name": "Python 3",
   "language": "python",
   "name": "python3"
  },
  "language_info": {
   "codemirror_mode": {
    "name": "ipython",
    "version": 3
   },
   "file_extension": ".py",
   "mimetype": "text/x-python",
   "name": "python",
   "nbconvert_exporter": "python",
   "pygments_lexer": "ipython3",
   "version": "3.6.3"
  }
 },
 "nbformat": 4,
 "nbformat_minor": 2
}
