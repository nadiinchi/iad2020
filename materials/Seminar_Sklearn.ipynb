{
 "cells": [
  {
   "cell_type": "markdown",
   "metadata": {},
   "source": [
    "### Classes"
   ]
  },
  {
   "cell_type": "code",
   "execution_count": 7,
   "metadata": {
    "collapsed": true
   },
   "outputs": [],
   "source": [
    "class MaxCounter:\n",
    "    def __init__(self):\n",
    "        self.current_max = -10**10\n",
    "    \n",
    "    def add_number(self, number):\n",
    "        if number > self.current_max:\n",
    "            self.current_max = number\n",
    "            \n",
    "    def print_max(self):\n",
    "        print(\"Max:\", self.current_max)"
   ]
  },
  {
   "cell_type": "code",
   "execution_count": 8,
   "metadata": {
    "collapsed": true
   },
   "outputs": [],
   "source": [
    "counter = MaxCounter()"
   ]
  },
  {
   "cell_type": "code",
   "execution_count": 9,
   "metadata": {},
   "outputs": [
    {
     "data": {
      "text/plain": [
       "-10000000000"
      ]
     },
     "execution_count": 9,
     "metadata": {},
     "output_type": "execute_result"
    }
   ],
   "source": [
    "counter.current_max"
   ]
  },
  {
   "cell_type": "code",
   "execution_count": 10,
   "metadata": {
    "collapsed": true
   },
   "outputs": [],
   "source": [
    "counter.add_number(10)\n",
    "counter.add_number(7)"
   ]
  },
  {
   "cell_type": "code",
   "execution_count": 11,
   "metadata": {},
   "outputs": [
    {
     "data": {
      "text/plain": [
       "10"
      ]
     },
     "execution_count": 11,
     "metadata": {},
     "output_type": "execute_result"
    }
   ],
   "source": [
    "counter.current_max"
   ]
  },
  {
   "cell_type": "code",
   "execution_count": 12,
   "metadata": {},
   "outputs": [
    {
     "name": "stdout",
     "output_type": "stream",
     "text": [
      "Max: 10\n"
     ]
    }
   ],
   "source": [
    "counter.print_max()"
   ]
  },
  {
   "cell_type": "code",
   "execution_count": 15,
   "metadata": {},
   "outputs": [
    {
     "name": "stdout",
     "output_type": "stream",
     "text": [
      "Max: 174\n"
     ]
    }
   ],
   "source": [
    "counter2 = MaxCounter()\n",
    "counter2.add_number(-5)\n",
    "counter2.add_number(1)\n",
    "counter2.add_number(174)\n",
    "counter2.print_max()"
   ]
  },
  {
   "cell_type": "code",
   "execution_count": 18,
   "metadata": {},
   "outputs": [
    {
     "name": "stdout",
     "output_type": "stream",
     "text": [
      "Max: 1111\n"
     ]
    }
   ],
   "source": [
    "counter2.add_number(1111)\n",
    "counter2.print_max()"
   ]
  },
  {
   "cell_type": "code",
   "execution_count": 14,
   "metadata": {},
   "outputs": [
    {
     "name": "stdout",
     "output_type": "stream",
     "text": [
      "Max: 10\n"
     ]
    }
   ],
   "source": [
    "counter.print_max()"
   ]
  },
  {
   "cell_type": "code",
   "execution_count": 19,
   "metadata": {
    "collapsed": true
   },
   "outputs": [],
   "source": [
    "class Concat:\n",
    "    def __init__(self):\n",
    "        self.li = []\n",
    "        \n",
    "    def add_string(self, new_string):\n",
    "        self.li.append(new_string)\n",
    "        \n",
    "    def print_string(self):\n",
    "        print(\" \".join(self.li))\n",
    "        # print(*self.li)"
   ]
  },
  {
   "cell_type": "code",
   "execution_count": 29,
   "metadata": {
    "collapsed": true
   },
   "outputs": [],
   "source": [
    "class Concat:\n",
    "    def __init__(self):\n",
    "        self.current_str = \"\"\n",
    "        \n",
    "    def add_string(self, new_string):\n",
    "        if self.current_str == \"\":\n",
    "            self.current_str = new_string\n",
    "        else:\n",
    "            self.current_str = self.current_str + \" \" + new_string\n",
    "        \n",
    "    def print_string(self):\n",
    "        print(self.current_str)"
   ]
  },
  {
   "cell_type": "code",
   "execution_count": 30,
   "metadata": {
    "collapsed": true
   },
   "outputs": [],
   "source": [
    "concat = Concat()\n",
    "concat.add_string(\"hello\")\n",
    "concat.add_string(\"world\")"
   ]
  },
  {
   "cell_type": "code",
   "execution_count": 28,
   "metadata": {},
   "outputs": [
    {
     "name": "stdout",
     "output_type": "stream",
     "text": [
      "\n"
     ]
    }
   ],
   "source": [
    "concat.print_string()"
   ]
  },
  {
   "cell_type": "markdown",
   "metadata": {},
   "source": [
    "### Scikit learn"
   ]
  },
  {
   "cell_type": "code",
   "execution_count": 31,
   "metadata": {
    "collapsed": true
   },
   "outputs": [],
   "source": [
    "import sklearn"
   ]
  },
  {
   "cell_type": "code",
   "execution_count": 34,
   "metadata": {
    "collapsed": true
   },
   "outputs": [],
   "source": [
    "from sklearn.neighbors import KNeighborsRegressor"
   ]
  },
  {
   "cell_type": "code",
   "execution_count": 35,
   "metadata": {
    "collapsed": true
   },
   "outputs": [],
   "source": [
    "knn = KNeighborsRegressor()"
   ]
  },
  {
   "cell_type": "code",
   "execution_count": 36,
   "metadata": {},
   "outputs": [
    {
     "data": {
      "text/plain": [
       "<bound method SupervisedFloatMixin.fit of KNeighborsRegressor(algorithm='auto', leaf_size=30, metric='minkowski',\n",
       "          metric_params=None, n_jobs=1, n_neighbors=5, p=2,\n",
       "          weights='uniform')>"
      ]
     },
     "execution_count": 36,
     "metadata": {},
     "output_type": "execute_result"
    }
   ],
   "source": [
    "knn.fit"
   ]
  },
  {
   "cell_type": "markdown",
   "metadata": {},
   "source": [
    "##### importing data"
   ]
  },
  {
   "cell_type": "code",
   "execution_count": 37,
   "metadata": {
    "collapsed": true
   },
   "outputs": [],
   "source": [
    "from sklearn.datasets import load_boston"
   ]
  },
  {
   "cell_type": "code",
   "execution_count": 38,
   "metadata": {
    "collapsed": true
   },
   "outputs": [],
   "source": [
    "boston = load_boston()"
   ]
  },
  {
   "cell_type": "code",
   "execution_count": 39,
   "metadata": {},
   "outputs": [
    {
     "data": {
      "text/plain": [
       "dict_keys(['data', 'target', 'feature_names', 'DESCR'])"
      ]
     },
     "execution_count": 39,
     "metadata": {},
     "output_type": "execute_result"
    }
   ],
   "source": [
    "boston.keys()"
   ]
  },
  {
   "cell_type": "code",
   "execution_count": 40,
   "metadata": {},
   "outputs": [
    {
     "name": "stdout",
     "output_type": "stream",
     "text": [
      "Boston House Prices dataset\n",
      "===========================\n",
      "\n",
      "Notes\n",
      "------\n",
      "Data Set Characteristics:  \n",
      "\n",
      "    :Number of Instances: 506 \n",
      "\n",
      "    :Number of Attributes: 13 numeric/categorical predictive\n",
      "    \n",
      "    :Median Value (attribute 14) is usually the target\n",
      "\n",
      "    :Attribute Information (in order):\n",
      "        - CRIM     per capita crime rate by town\n",
      "        - ZN       proportion of residential land zoned for lots over 25,000 sq.ft.\n",
      "        - INDUS    proportion of non-retail business acres per town\n",
      "        - CHAS     Charles River dummy variable (= 1 if tract bounds river; 0 otherwise)\n",
      "        - NOX      nitric oxides concentration (parts per 10 million)\n",
      "        - RM       average number of rooms per dwelling\n",
      "        - AGE      proportion of owner-occupied units built prior to 1940\n",
      "        - DIS      weighted distances to five Boston employment centres\n",
      "        - RAD      index of accessibility to radial highways\n",
      "        - TAX      full-value property-tax rate per $10,000\n",
      "        - PTRATIO  pupil-teacher ratio by town\n",
      "        - B        1000(Bk - 0.63)^2 where Bk is the proportion of blacks by town\n",
      "        - LSTAT    % lower status of the population\n",
      "        - MEDV     Median value of owner-occupied homes in $1000's\n",
      "\n",
      "    :Missing Attribute Values: None\n",
      "\n",
      "    :Creator: Harrison, D. and Rubinfeld, D.L.\n",
      "\n",
      "This is a copy of UCI ML housing dataset.\n",
      "http://archive.ics.uci.edu/ml/datasets/Housing\n",
      "\n",
      "\n",
      "This dataset was taken from the StatLib library which is maintained at Carnegie Mellon University.\n",
      "\n",
      "The Boston house-price data of Harrison, D. and Rubinfeld, D.L. 'Hedonic\n",
      "prices and the demand for clean air', J. Environ. Economics & Management,\n",
      "vol.5, 81-102, 1978.   Used in Belsley, Kuh & Welsch, 'Regression diagnostics\n",
      "...', Wiley, 1980.   N.B. Various transformations are used in the table on\n",
      "pages 244-261 of the latter.\n",
      "\n",
      "The Boston house-price data has been used in many machine learning papers that address regression\n",
      "problems.   \n",
      "     \n",
      "**References**\n",
      "\n",
      "   - Belsley, Kuh & Welsch, 'Regression diagnostics: Identifying Influential Data and Sources of Collinearity', Wiley, 1980. 244-261.\n",
      "   - Quinlan,R. (1993). Combining Instance-Based and Model-Based Learning. In Proceedings on the Tenth International Conference of Machine Learning, 236-243, University of Massachusetts, Amherst. Morgan Kaufmann.\n",
      "   - many more! (see http://archive.ics.uci.edu/ml/datasets/Housing)\n",
      "\n"
     ]
    }
   ],
   "source": [
    "print(boston.DESCR)"
   ]
  },
  {
   "cell_type": "code",
   "execution_count": 43,
   "metadata": {},
   "outputs": [
    {
     "data": {
      "text/plain": [
       "((506, 13), (506,))"
      ]
     },
     "execution_count": 43,
     "metadata": {},
     "output_type": "execute_result"
    }
   ],
   "source": [
    "boston.data.shape, boston.target.shape"
   ]
  },
  {
   "cell_type": "code",
   "execution_count": null,
   "metadata": {
    "collapsed": true
   },
   "outputs": [],
   "source": [
    "boston.target"
   ]
  },
  {
   "cell_type": "code",
   "execution_count": 45,
   "metadata": {
    "collapsed": true
   },
   "outputs": [],
   "source": [
    "X = boston.data\n",
    "Y = boston.target"
   ]
  },
  {
   "cell_type": "code",
   "execution_count": 47,
   "metadata": {},
   "outputs": [
    {
     "data": {
      "text/plain": [
       "array([23.09, 21.32, 23.68, 24.01, 23.47, 25.08, 21.6 , 18.3 , 17.65,\n",
       "       20.09, 18.3 , 21.41, 23.  , 21.89, 28.74, 22.18, 27.17, 21.12,\n",
       "       19.22, 24.38, 15.82, 19.56, 19.27, 19.32, 19.27, 19.33, 22.1 ,\n",
       "       19.33, 19.08, 24.01, 19.14, 16.51, 17.5 , 19.14, 18.5 , 24.7 ,\n",
       "       22.19, 25.2 , 26.4 , 33.81, 34.9 , 23.28, 23.28, 23.12, 21.7 ,\n",
       "       20.61, 20.61, 21.38, 21.8 , 24.35, 25.59, 27.68, 25.19, 25.19,\n",
       "       29.3 , 38.73, 25.07, 37.31, 23.27, 23.99, 21.69, 35.6 , 22.67,\n",
       "       24.45, 28.92, 26.  , 26.13, 26.55, 22.58, 24.41, 27.13, 27.13,\n",
       "       27.13, 26.56, 21.91, 21.43, 25.69, 21.43, 20.87, 22.01, 24.75,\n",
       "       25.9 , 24.93, 26.14, 22.95, 22.82, 22.95, 23.13, 23.61, 25.56,\n",
       "       25.1 , 23.08, 26.52, 26.65, 31.58, 25.83, 24.89, 23.53, 25.58,\n",
       "       25.54, 20.53, 20.89, 17.16, 19.98, 19.98, 20.5 , 19.98, 19.98,\n",
       "       20.5 , 19.98, 21.49, 19.08, 18.15, 17.78, 19.61, 19.95, 18.77,\n",
       "       18.74, 19.22, 18.77, 29.58, 23.18, 24.01, 23.28, 23.28, 25.69,\n",
       "       22.99, 17.2 , 17.2 , 17.2 , 17.2 , 17.2 , 18.03, 17.72, 20.3 ,\n",
       "       17.2 , 17.1 , 17.2 , 16.64, 17.2 , 16.46, 16.16, 23.86, 23.86,\n",
       "       23.65, 17.37, 17.37, 20.8 , 24.76, 22.46, 34.36, 20.11, 21.91,\n",
       "       21.09, 20.12, 17.37, 17.37, 27.98, 25.68, 28.23, 22.46, 35.31,\n",
       "       31.63, 34.45, 26.5 , 19.37, 34.49, 18.46, 19.65, 20.16, 20.24,\n",
       "       22.54, 21.25, 23.51, 22.47, 25.24, 23.8 , 23.31, 23.98, 33.14,\n",
       "       33.3 , 34.08, 28.34, 28.34, 28.34, 33.19, 34.61, 29.84, 29.84,\n",
       "       29.84, 29.7 , 29.84, 29.84, 32.29, 31.98, 33.86, 24.37, 25.39,\n",
       "       24.37, 29.85, 30.44, 26.39, 26.81, 40.32, 40.32, 26.53, 24.37,\n",
       "       20.95, 22.23, 22.68, 21.56, 21.45, 23.42, 26.4 , 26.37, 25.83,\n",
       "       23.62, 21.62, 21.56, 21.56, 24.03, 19.2 , 27.63, 24.56, 35.64,\n",
       "       32.92, 30.54, 32.82, 27.13, 27.13, 32.12, 33.67, 34.31, 35.3 ,\n",
       "       34.36, 30.54, 27.83, 31.06, 23.45, 22.98, 23.05, 22.83, 22.82,\n",
       "       25.11, 22.94, 19.51, 24.58, 22.01, 21.6 , 27.45, 27.45, 27.73,\n",
       "       27.73, 27.45, 23.91, 24.93, 38.4 , 39.  , 35.6 , 36.36, 37.46,\n",
       "       36.06, 36.06, 36.06, 36.06, 28.93, 39.  , 34.1 , 28.38, 28.83,\n",
       "       30.77, 26.29, 28.85, 32.57, 27.58, 29.14, 28.92, 29.34, 27.58,\n",
       "       27.27, 32.34, 29.35, 32.57, 38.25, 30.26, 23.27, 36.62, 24.15,\n",
       "       23.01, 22.86, 36.89, 36.89, 38.73, 25.27, 23.8 , 24.21, 23.12,\n",
       "       22.8 , 25.93, 25.39, 27.92, 24.43, 28.02, 28.02, 31.54, 30.59,\n",
       "       30.53, 30.53, 23.2 , 22.47, 26.21, 22.41, 20.62, 22.8 , 22.41,\n",
       "       22.5 , 20.03, 21.1 , 21.3 , 21.06, 23.12, 23.12, 23.19, 24.31,\n",
       "       23.39, 25.19, 26.66, 23.25, 20.72, 20.91, 20.43, 22.91, 22.87,\n",
       "       21.7 , 21.7 , 21.7 , 22.99, 26.11, 21.7 , 23.26, 25.25, 24.35,\n",
       "       20.27, 29.05, 30.  , 21.05, 20.01, 26.39, 30.94, 25.13, 24.43,\n",
       "       30.74, 31.11, 38.78, 25.78, 25.84, 16.57, 18.36, 20.63, 21.34,\n",
       "       25.67, 24.1 , 24.64, 24.1 , 29.01, 25.4 , 17.9 , 15.61, 30.81,\n",
       "       30.81, 20.53, 27.33, 25.5 , 11.66, 10.36, 11.58, 17.47, 11.32,\n",
       "        9.09, 10.15,  9.08, 11.37, 11.32, 11.32, 15.79, 10.22,  9.75,\n",
       "        9.63, 14.34, 12.98, 13.7 , 19.83, 11.03, 15.92, 12.8 , 13.45,\n",
       "       13.67, 13.01,  9.16, 19.52,  9.09, 11.32, 15.38, 10.4 , 18.68,\n",
       "        8.77, 18.08, 21.04, 17.9 , 15.49, 11.03, 12.25, 12.21, 16.23,\n",
       "       11.43, 12.21, 12.3 , 13.56, 11.11, 11.57, 17.9 , 16.45, 15.57,\n",
       "       12.31, 12.46, 10.92, 11.69, 10.26, 12.34, 12.55, 12.71, 12.71,\n",
       "       13.7 , 13.7 , 13.7 , 13.7 , 12.3 , 11.36, 11.78, 12.27, 10.42,\n",
       "       14.24, 13.45, 14.87, 15.9 , 12.22, 17.9 , 14.5 , 12.5 , 15.99,\n",
       "       12.31, 24.1 , 16.69, 19.43, 12.1 , 11.96, 12.31, 12.31, 15.2 ,\n",
       "       19.51, 15.34, 19.72, 20.45, 19.18, 21.99, 23.18, 12.95, 17.01,\n",
       "       22.12, 21.91, 20.3 , 18.74, 21.71, 22.75, 24.1 , 15.99, 14.3 ,\n",
       "       20.05, 16.57, 18.24, 21.99, 22.02, 21.87, 22.54, 21.75, 22.54,\n",
       "       21.34, 22.54, 16.6 , 14.07, 14.54, 14.02, 19.04, 21.77, 21.43,\n",
       "       22.01, 20.67, 21.03, 21.22, 20.73, 20.73, 22.42, 22.91, 23.56,\n",
       "       23.56, 23.68])"
      ]
     },
     "execution_count": 47,
     "metadata": {},
     "output_type": "execute_result"
    }
   ],
   "source": [
    "knn = KNeighborsRegressor(n_neighbors=10)\n",
    "knn.fit(X, Y) # training data\n",
    "knn.predict(X) # predictions on training data"
   ]
  },
  {
   "cell_type": "markdown",
   "metadata": {},
   "source": [
    "##### split dataset"
   ]
  },
  {
   "cell_type": "code",
   "execution_count": 48,
   "metadata": {
    "collapsed": true
   },
   "outputs": [],
   "source": [
    "from sklearn.model_selection import train_test_split"
   ]
  },
  {
   "cell_type": "code",
   "execution_count": 53,
   "metadata": {
    "collapsed": true
   },
   "outputs": [],
   "source": [
    "X_train, X_test, Y_train, Y_test = train_test_split(X, Y, test_size=0.5)"
   ]
  },
  {
   "cell_type": "code",
   "execution_count": 54,
   "metadata": {},
   "outputs": [
    {
     "data": {
      "text/plain": [
       "((506, 13), (253, 13), (253, 13))"
      ]
     },
     "execution_count": 54,
     "metadata": {},
     "output_type": "execute_result"
    }
   ],
   "source": [
    "X.shape, X_train.shape, X_test.shape"
   ]
  },
  {
   "cell_type": "code",
   "execution_count": 56,
   "metadata": {
    "collapsed": true
   },
   "outputs": [],
   "source": [
    "### сделать предсказания для Y_test\n",
    "knn = KNeighborsRegressor(n_neighbors=10)\n",
    "knn.fit(X_train, Y_train) # training data\n",
    "Y_test_pred = knn.predict(X_test) # predictions on testing data"
   ]
  },
  {
   "cell_type": "code",
   "execution_count": 57,
   "metadata": {},
   "outputs": [
    {
     "data": {
      "text/plain": [
       "((253,), (253,))"
      ]
     },
     "execution_count": 57,
     "metadata": {},
     "output_type": "execute_result"
    }
   ],
   "source": [
    "Y_test.shape, Y_test_pred.shape"
   ]
  },
  {
   "cell_type": "code",
   "execution_count": 58,
   "metadata": {
    "collapsed": true
   },
   "outputs": [],
   "source": [
    "from sklearn.metrics import mean_squared_error, mean_absolute_error, r2_score"
   ]
  },
  {
   "cell_type": "code",
   "execution_count": 59,
   "metadata": {},
   "outputs": [
    {
     "data": {
      "text/plain": [
       "51.663250592885376"
      ]
     },
     "execution_count": 59,
     "metadata": {},
     "output_type": "execute_result"
    }
   ],
   "source": [
    "mean_squared_error(Y_test, Y_test_pred)"
   ]
  },
  {
   "cell_type": "code",
   "execution_count": 60,
   "metadata": {},
   "outputs": [
    {
     "data": {
      "text/plain": [
       "5.06102766798419"
      ]
     },
     "execution_count": 60,
     "metadata": {},
     "output_type": "execute_result"
    }
   ],
   "source": [
    "mean_absolute_error(Y_test, Y_test_pred)"
   ]
  },
  {
   "cell_type": "code",
   "execution_count": 61,
   "metadata": {},
   "outputs": [
    {
     "data": {
      "text/plain": [
       "0.4013474393996964"
      ]
     },
     "execution_count": 61,
     "metadata": {},
     "output_type": "execute_result"
    }
   ],
   "source": [
    "r2_score(Y_test, Y_test_pred)"
   ]
  },
  {
   "cell_type": "code",
   "execution_count": 63,
   "metadata": {
    "collapsed": true
   },
   "outputs": [],
   "source": [
    "Y_train_pred = knn.predict(X_train)"
   ]
  },
  {
   "cell_type": "code",
   "execution_count": 64,
   "metadata": {},
   "outputs": [
    {
     "data": {
      "text/plain": [
       "4.323596837944663"
      ]
     },
     "execution_count": 64,
     "metadata": {},
     "output_type": "execute_result"
    }
   ],
   "source": [
    "mean_absolute_error(Y_train, Y_train_pred)"
   ]
  },
  {
   "cell_type": "code",
   "execution_count": 65,
   "metadata": {},
   "outputs": [
    {
     "data": {
      "text/plain": [
       "0.53230562953854"
      ]
     },
     "execution_count": 65,
     "metadata": {},
     "output_type": "execute_result"
    }
   ],
   "source": [
    "r2_score(Y_train, Y_train_pred)"
   ]
  },
  {
   "cell_type": "code",
   "execution_count": 66,
   "metadata": {
    "collapsed": true
   },
   "outputs": [],
   "source": [
    "import numpy as np"
   ]
  },
  {
   "cell_type": "code",
   "execution_count": 72,
   "metadata": {
    "collapsed": true
   },
   "outputs": [],
   "source": [
    "class MyScaler:\n",
    "    def fit(self, X_train):\n",
    "        # save min and max inside class\n",
    "        self.mins = X_train.min(axis=0) # вектор длины число признаков\n",
    "        self.maxs = X_train.max(axis=0)\n",
    "    \n",
    "    def transform(self, X):\n",
    "        # apply tranformation\n",
    "        X_transformed = (X - self.mins[np.newaxis, :]) / (self.maxs-self.mins)[np.newaxis, :]\n",
    "        return X_transformed"
   ]
  },
  {
   "cell_type": "code",
   "execution_count": 73,
   "metadata": {
    "collapsed": true
   },
   "outputs": [],
   "source": [
    "scaler = MyScaler()\n",
    "scaler.fit(X_train)\n",
    "X_test_tr = scaler.transform(X_test)"
   ]
  },
  {
   "cell_type": "code",
   "execution_count": 74,
   "metadata": {},
   "outputs": [
    {
     "data": {
      "text/plain": [
       "array([[2.4980e-02, 0.0000e+00, 1.8900e+00, 0.0000e+00, 5.1800e-01,\n",
       "        6.5400e+00, 5.9700e+01, 6.2669e+00, 1.0000e+00, 4.2200e+02,\n",
       "        1.5900e+01, 3.8996e+02, 8.6500e+00],\n",
       "       [2.8960e-01, 0.0000e+00, 9.6900e+00, 0.0000e+00, 5.8500e-01,\n",
       "        5.3900e+00, 7.2900e+01, 2.7986e+00, 6.0000e+00, 3.9100e+02,\n",
       "        1.9200e+01, 3.9690e+02, 2.1140e+01]])"
      ]
     },
     "execution_count": 74,
     "metadata": {},
     "output_type": "execute_result"
    }
   ],
   "source": [
    "X_test[:2]"
   ]
  },
  {
   "cell_type": "code",
   "execution_count": 75,
   "metadata": {},
   "outputs": [
    {
     "data": {
      "text/plain": [
       "array([[1.78942472e-04, 0.00000000e+00, 5.24193548e-02, 0.00000000e+00,\n",
       "        2.67634855e-01, 5.17449375e-01, 5.70362473e-01, 5.34293380e-01,\n",
       "        0.00000000e+00, 4.47418738e-01, 3.51063830e-01, 9.82500378e-01,\n",
       "        2.07140659e-01],\n",
       "       [3.15329907e-03, 0.00000000e+00, 3.38343109e-01, 0.00000000e+00,\n",
       "        4.06639004e-01, 2.69711331e-01, 7.11087420e-01, 1.70785645e-01,\n",
       "        2.17391304e-01, 3.88145315e-01, 7.02127660e-01, 1.00000000e+00,\n",
       "        5.91566636e-01]])"
      ]
     },
     "execution_count": 75,
     "metadata": {},
     "output_type": "execute_result"
    }
   ],
   "source": [
    "X_test_tr[:2]"
   ]
  },
  {
   "cell_type": "code",
   "execution_count": null,
   "metadata": {
    "collapsed": true
   },
   "outputs": [],
   "source": []
  }
 ],
 "metadata": {
  "kernelspec": {
   "display_name": "Python 3",
   "language": "python",
   "name": "python3"
  },
  "language_info": {
   "codemirror_mode": {
    "name": "ipython",
    "version": 3
   },
   "file_extension": ".py",
   "mimetype": "text/x-python",
   "name": "python",
   "nbconvert_exporter": "python",
   "pygments_lexer": "ipython3",
   "version": "3.6.3"
  }
 },
 "nbformat": 4,
 "nbformat_minor": 2
}
