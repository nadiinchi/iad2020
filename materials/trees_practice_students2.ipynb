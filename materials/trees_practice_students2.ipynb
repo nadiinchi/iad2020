{
 "cells": [
  {
   "cell_type": "markdown",
   "metadata": {},
   "source": [
    "# Практический семинар по деревьям и бэггингу"
   ]
  },
  {
   "cell_type": "markdown",
   "metadata": {},
   "source": [
    "### Визуализация разделяющих поверхностей в sklearn\n",
    "\n",
    "Научимся изображать разделяющие поверхности в осях призанк 1 - признак 2, используя numpy, sklearn и matplotlib"
   ]
  },
  {
   "cell_type": "code",
   "execution_count": null,
   "metadata": {
    "collapsed": true
   },
   "outputs": [],
   "source": [
    "import sklearn\n",
    "from matplotlib import pyplot as plt\n",
    "%matplotlib inline\n",
    "import numpy as np\n",
    "from sklearn.datasets import make_moons\n",
    "import pandas as pd"
   ]
  },
  {
   "cell_type": "markdown",
   "metadata": {},
   "source": [
    "Создаем синтетические данные с двумя признаками и двумя классами:"
   ]
  },
  {
   "cell_type": "code",
   "execution_count": null,
   "metadata": {
    "collapsed": true
   },
   "outputs": [],
   "source": [
    "X, Y = make_moons(n_samples=100, shuffle=True, noise=0.3, \\\n",
    "                  random_state=3)"
   ]
  },
  {
   "cell_type": "markdown",
   "metadata": {},
   "source": [
    "Визуализируем выборку:"
   ]
  },
  {
   "cell_type": "code",
   "execution_count": null,
   "metadata": {
    "collapsed": true
   },
   "outputs": [],
   "source": [
    "plt.scatter(X[:, 0], X[:, 1], c=Y)\n",
    "plt.xlabel(\"Feature 1\")\n",
    "plt.ylabel(\"feature 2\")"
   ]
  },
  {
   "cell_type": "markdown",
   "metadata": {},
   "source": [
    "Обучим решающее дерево:"
   ]
  },
  {
   "cell_type": "code",
   "execution_count": null,
   "metadata": {
    "collapsed": true
   },
   "outputs": [],
   "source": [
    "from sklearn.tree import DecisionTreeClassifier\n",
    "tree = DecisionTreeClassifier()\n",
    "tree.fit(X, Y)"
   ]
  },
  {
   "cell_type": "markdown",
   "metadata": {},
   "source": [
    "Чтобы нарисовать разделяющую поверхность, сделаем следующее: \n",
    "1. сделаем большую тестовую выборку, которая покроет точками нашу плоскость (с  каким-то шагом);\n",
    "1. сделаем предсказания для нашей выборки."
   ]
  },
  {
   "cell_type": "code",
   "execution_count": null,
   "metadata": {
    "collapsed": true
   },
   "outputs": [],
   "source": [
    "# делаем выборку - сетку\n",
    "h = .02  # шаг сетки\n",
    "x_min, x_max = X[:, 0].min() - .5, X[:, 0].max() + .5 # границы\n",
    "y_min, y_max = X[:, 1].min() - .5, X[:, 1].max() + .5 # границы\n",
    "xx, yy = np.meshgrid(np.arange(x_min, x_max, h),\n",
    "                     np.arange(y_min, y_max, h)) # сетка"
   ]
  },
  {
   "cell_type": "markdown",
   "metadata": {},
   "source": [
    "Смотрим форму:"
   ]
  },
  {
   "cell_type": "code",
   "execution_count": null,
   "metadata": {
    "collapsed": true
   },
   "outputs": [],
   "source": [
    "xx.shape, yy.shape"
   ]
  },
  {
   "cell_type": "markdown",
   "metadata": {},
   "source": [
    "Получилось 163 точки по вертикали и 230 по горизонтали."
   ]
  },
  {
   "cell_type": "markdown",
   "metadata": {},
   "source": [
    "Вытяните обе матрицы в вектор (.reshape(-1, 1)), соедините в матрицу (np.hstack) и сделайте предсказания решающего дерева:"
   ]
  },
  {
   "cell_type": "code",
   "execution_count": null,
   "metadata": {
    "collapsed": true
   },
   "outputs": [],
   "source": [
    "# предсказания на сетке\n",
    "### your code here\n"
   ]
  },
  {
   "cell_type": "code",
   "execution_count": null,
   "metadata": {
    "collapsed": true
   },
   "outputs": [],
   "source": [
    "Z = preds.reshape(xx.shape) # меняем обратно в форму сетки\n",
    "plt.contourf(xx, yy, Z, alpha=.08) # рисуем границы\n",
    "\n",
    "# копируем код рисования выборки\n",
    "plt.scatter(X[:, 0], X[:, 1], c=Y)\n",
    "plt.xlabel(\"Feature 1\")\n",
    "plt.ylabel(\"feature 2\")"
   ]
  },
  {
   "cell_type": "markdown",
   "metadata": {},
   "source": [
    "### Гиперпараметры решающих деревьев"
   ]
  },
  {
   "cell_type": "markdown",
   "metadata": {},
   "source": [
    "Соберем код в одну функцию (скопируйте в нее ваш код):"
   ]
  },
  {
   "cell_type": "code",
   "execution_count": null,
   "metadata": {
    "collapsed": true
   },
   "outputs": [],
   "source": [
    "def plot_classes(tree, X, Y):\n",
    "    h = .02  # шаг сетки\n",
    "    x_min, x_max = X[:, 0].min() - .5, X[:, 0].max() + .5\n",
    "    y_min, y_max = X[:, 1].min() - .5, X[:, 1].max() + .5\n",
    "    xx, yy = np.meshgrid(np.arange(x_min, x_max, h),\n",
    "                         np.arange(y_min, y_max, h)) # сетка\n",
    "    # предсказания на сетке\n",
    "    ### СКОПИРУЙТЕ СЮДА ВАШ КОД\n",
    "    \n",
    "    ###\n",
    "    Z = preds.reshape(xx.shape)\n",
    "    # границы\n",
    "    plt.contourf(xx, yy, Z, alpha=.08)\n",
    "    \n",
    "    plt.scatter(X[:, 0], X[:, 1], c=Y)\n",
    "    plt.xlabel(\"Feature 1\")\n",
    "    plt.ylabel(\"feature 2\")"
   ]
  },
  {
   "cell_type": "markdown",
   "metadata": {},
   "source": [
    "Попробуйте менять гиперпараметр max_depth решающего дерева: для каждого значения обучите решающее дерево с выбранным значением гиперпараметра, вызовите функцию plot\\_classes, в конце напишите plt.show() (чтобы рисунки не наслаивались)."
   ]
  },
  {
   "cell_type": "code",
   "execution_count": null,
   "metadata": {
    "collapsed": true
   },
   "outputs": [],
   "source": [
    "for max_depth in [1, 2, 3, 5, 10]:\n",
    "    ### your code here\n",
    "    "
   ]
  },
  {
   "cell_type": "markdown",
   "metadata": {},
   "source": [
    "На что влияет гиперпараметр?"
   ]
  },
  {
   "cell_type": "markdown",
   "metadata": {},
   "source": [
    "Повторите те же шаги с другим гиперпараметром: min\\_samples\\_leaf"
   ]
  },
  {
   "cell_type": "code",
   "execution_count": null,
   "metadata": {
    "collapsed": true
   },
   "outputs": [],
   "source": [
    "for min_samples_leaf in [1, 5, 10, 20]:\n",
    "    ### your code here\n",
    "    "
   ]
  },
  {
   "cell_type": "markdown",
   "metadata": {},
   "source": [
    "На что влияет гиперпараметр?"
   ]
  },
  {
   "cell_type": "markdown",
   "metadata": {},
   "source": [
    "Повторите с max\\_leaf\\_nodes:"
   ]
  },
  {
   "cell_type": "code",
   "execution_count": null,
   "metadata": {
    "collapsed": true
   },
   "outputs": [],
   "source": [
    "for max_leaf_nodes in [3, 5, 10, 20]:\n",
    "    ### your code here\n",
    "    "
   ]
  },
  {
   "cell_type": "markdown",
   "metadata": {
    "collapsed": true
   },
   "source": [
    "### Подбор гиперпараметров решающего дерева\n",
    "\n",
    "Подберите оптимальные гиперпараметры решающего дерева, используя кросс-валидацию, и визуализируйте дерево с выбранными гиперпараметрами. Сетки гиперпараметров можно использовать те же, что в задании \"Гиперпараметры решающих деревьев\". Как пользоваться кросс-валидацией, описано в домашнем задании 3."
   ]
  },
  {
   "cell_type": "code",
   "execution_count": null,
   "metadata": {
    "collapsed": true
   },
   "outputs": [],
   "source": [
    "from sklearn.model_selection import GridSearchCV"
   ]
  },
  {
   "cell_type": "code",
   "execution_count": null,
   "metadata": {
    "collapsed": true
   },
   "outputs": [],
   "source": [
    "### your code here\n"
   ]
  },
  {
   "cell_type": "markdown",
   "metadata": {},
   "source": [
    "### Обучение решающего дерева на бутстрапированных выборках\n",
    "\n",
    "Теперь попробуем обучать решающее дерево на разных подвыборках одной выборки, а точнее, на бутстрапированных выборках. Напомним: бэггинг - это метод композиции, в котором каждый базовый алгоритм обучается на своей выборке. Выборки обычно получают из исходной выборки бутстрапом: генерируют индексы объектов (с возвращением) и выбирают соответствующие объекты исходной выборки."
   ]
  },
  {
   "cell_type": "markdown",
   "metadata": {},
   "source": [
    "Для начала сгенерируйте одну выборку методом случайного выбора объектов с возвращением. Сгенерируйте случайные индексы объектов с помощью np.random.randint (в качестве минимума используйте 0, в качестве максимума - длину выборки, size также равен длине выборки). Затем индексируйте X и Y."
   ]
  },
  {
   "cell_type": "code",
   "execution_count": null,
   "metadata": {
    "collapsed": true
   },
   "outputs": [],
   "source": [
    "### student's code here\n",
    "# idxs = \n"
   ]
  },
  {
   "cell_type": "markdown",
   "metadata": {},
   "source": [
    "Посмотрите, сколько уникальных индексов в idxs:"
   ]
  },
  {
   "cell_type": "code",
   "execution_count": null,
   "metadata": {
    "collapsed": true
   },
   "outputs": [],
   "source": [
    "len(set(idxs)) / len(idxs)"
   ]
  },
  {
   "cell_type": "markdown",
   "metadata": {},
   "source": [
    "Получилось столько же, сколько получается в теории.\n",
    "\n",
    "Наша следующая задача - обучить три решающих дерева, каждую на своей сгенерированной выборке, и визуализировать их разделяющие поверхности."
   ]
  },
  {
   "cell_type": "markdown",
   "metadata": {},
   "source": [
    "Выполните цикл по деревьям, на каждом шаге сгенерируйте выборку из X, Y методом генерации объектов с возвращением и обучите на ней решающее дерево. Визуализируйте разделяющую поверхность функцией  plot_classes."
   ]
  },
  {
   "cell_type": "code",
   "execution_count": null,
   "metadata": {
    "collapsed": true
   },
   "outputs": [],
   "source": [
    "num_trees = 3\n",
    "### student's code here\n"
   ]
  },
  {
   "cell_type": "markdown",
   "metadata": {},
   "source": [
    "Все три дерева сильно различны, хотя обучаются на подножествах одного множества объектов. На этом свойстве и основан успех решающих деревьев при построении композиций: предсказания деревьев различаются, и в результате деревья \"компенсируют\" ошибки друг друга."
   ]
  },
  {
   "cell_type": "markdown",
   "metadata": {},
   "source": [
    "### Обучение бэггинга"
   ]
  },
  {
   "cell_type": "markdown",
   "metadata": {},
   "source": [
    "В предыдущем задании мы обучали отдельные решающие деревья, но каждое - на своей подвыборке. Давайте обучим бэггинг, в котором предсказания будут выполняться с помощью усреднения предсказаний отдельных деревьев.\n",
    "\n",
    "Обучите бэггинги с числом деревьев 1, 3, 5, 10, 100 и визуализируйте их разделяющие поверхности. Гиперпараметр числа деревьев в бэггинге называется n\\_estimators. Не забудьте plt.show()."
   ]
  },
  {
   "cell_type": "code",
   "execution_count": null,
   "metadata": {
    "collapsed": true
   },
   "outputs": [],
   "source": [
    "from sklearn.ensemble import BaggingClassifier"
   ]
  },
  {
   "cell_type": "code",
   "execution_count": null,
   "metadata": {
    "collapsed": true
   },
   "outputs": [],
   "source": [
    "for num_trees in [1, 3, 5, 10, 100]:\n",
    "    ### your code here\n",
    "    "
   ]
  },
  {
   "cell_type": "markdown",
   "metadata": {},
   "source": [
    "Как меняется разделяющая поверхность?"
   ]
  }
 ],
 "metadata": {
  "_change_revision": 113,
  "_is_fork": false,
  "kernelspec": {
   "display_name": "Python 3",
   "language": "python",
   "name": "python3"
  },
  "language_info": {
   "codemirror_mode": {
    "name": "ipython",
    "version": 3
   },
   "file_extension": ".py",
   "mimetype": "text/x-python",
   "name": "python",
   "nbconvert_exporter": "python",
   "pygments_lexer": "ipython3",
   "version": "3.6.3"
  }
 },
 "nbformat": 4,
 "nbformat_minor": 1
}
